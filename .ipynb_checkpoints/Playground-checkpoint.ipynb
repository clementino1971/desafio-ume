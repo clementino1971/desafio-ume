{
 "cells": [
  {
   "cell_type": "markdown",
   "metadata": {
    "id": "maG9v1yRW4Va"
   },
   "source": [
    "# Importando Bibliotecas Necessárias"
   ]
  },
  {
   "cell_type": "code",
   "execution_count": 2,
   "metadata": {
    "id": "6DfjRNKqV97T"
   },
   "outputs": [],
   "source": [
    "import numpy as np\n",
    "import pandas as pd\n",
    "\n",
    "%matplotlib inline\n",
    "import matplotlib.pyplot as plt\n",
    "\n",
    "import warnings\n",
    "warnings.filterwarnings('ignore')\n",
    "\n",
    "from sklearn.pipeline import Pipeline\n",
    "from sklearn.preprocessing import StandardScaler, OneHotEncoder,MinMaxScaler\n",
    "from sklearn.compose import ColumnTransformer\n",
    "\n",
    "from sklearn.metrics import confusion_matrix,roc_auc_score\n",
    "from sklearn.ensemble import RandomForestClassifier,GradientBoostingClassifier\n",
    "from sklearn.model_selection import GridSearchCV\n",
    "from sklearn.model_selection import cross_validate"
   ]
  },
  {
   "cell_type": "markdown",
   "metadata": {
    "id": "SDnY20azZUGv"
   },
   "source": [
    "# Introdução"
   ]
  },
  {
   "cell_type": "markdown",
   "metadata": {
    "id": "ITz-wFDFaVza"
   },
   "source": [
    "A ABC é uma empresa de varejo que vende diferentes itens para seus clientes. Para aumentar as suas vendas, ela decidiu conceder crédito para estes clientes com base em um modelo automático de risco. Mais especificamente, dadas diversas informações sobre um cliente X, obtidas no momento da requisição de crédito, ela quer inferir o risco associado a X, ou seja, **a probabilidade de que X não vai pagar a dívida**\n",
    "que ele contraiu nos meses subsequentes se tornando assim um mau pagador.\n",
    "\n",
    "O objetivo desse notebook é propor um modelo que faça essa tarefa de classificar os clientes entre bons e maus pagadores.\n",
    "\n"
   ]
  },
  {
   "cell_type": "markdown",
   "metadata": {
    "id": "SZvcxLGqZW4z"
   },
   "source": [
    "# Dados"
   ]
  },
  {
   "cell_type": "markdown",
   "metadata": {
    "id": "JikqYXpienPZ"
   },
   "source": [
    "A empresa forneceu dados de clientes solicitantes de crédito no periodo dos meses de agosto e setembro de 2015. Para cada cliente estão disponíveis 15 informações divididas em 4 categorias:\n",
    "\n",
    "\n",
    "*   demo = Informações Demográficas\n",
    "*   job1 = Informações sobre emprego\n",
    "*   income = Informações sobre renda\n",
    "*   debt = Informações sobre débitos anteriores\n",
    "\n",
    "Além disso a empresa também informou se esse cliente nos meses seguintes foi um bom pagador ou não. A coluna 'target' indica se aquele cliente é:\n",
    "\n",
    "* 0 = bom pagador\n",
    "* 1 = mau pagador\n",
    "\n",
    "\n",
    "\n"
   ]
  },
  {
   "cell_type": "code",
   "execution_count": 3,
   "metadata": {
    "colab": {
     "base_uri": "https://localhost:8080/",
     "height": 309
    },
    "id": "kR3fXRSgZYyN",
    "outputId": "15178d18-f289-48d8-ae98-124e60e25a84"
   },
   "outputs": [
    {
     "data": {
      "text/html": [
       "<div>\n",
       "<style scoped>\n",
       "    .dataframe tbody tr th:only-of-type {\n",
       "        vertical-align: middle;\n",
       "    }\n",
       "\n",
       "    .dataframe tbody tr th {\n",
       "        vertical-align: top;\n",
       "    }\n",
       "\n",
       "    .dataframe thead th {\n",
       "        text-align: right;\n",
       "    }\n",
       "</style>\n",
       "<table border=\"1\" class=\"dataframe\">\n",
       "  <thead>\n",
       "    <tr style=\"text-align: right;\">\n",
       "      <th></th>\n",
       "      <th>date</th>\n",
       "      <th>demo1</th>\n",
       "      <th>demo2</th>\n",
       "      <th>demo3</th>\n",
       "      <th>demo4</th>\n",
       "      <th>demo5</th>\n",
       "      <th>demo6</th>\n",
       "      <th>job1</th>\n",
       "      <th>job2</th>\n",
       "      <th>job3</th>\n",
       "      <th>job4</th>\n",
       "      <th>income1</th>\n",
       "      <th>income2</th>\n",
       "      <th>debt1</th>\n",
       "      <th>debt2</th>\n",
       "      <th>debt3</th>\n",
       "      <th>target</th>\n",
       "    </tr>\n",
       "  </thead>\n",
       "  <tbody>\n",
       "    <tr>\n",
       "      <th>0</th>\n",
       "      <td>2015-08-25</td>\n",
       "      <td>18</td>\n",
       "      <td>-1</td>\n",
       "      <td>1</td>\n",
       "      <td>4</td>\n",
       "      <td>12</td>\n",
       "      <td>1</td>\n",
       "      <td>0</td>\n",
       "      <td>0</td>\n",
       "      <td>19</td>\n",
       "      <td>2</td>\n",
       "      <td>0</td>\n",
       "      <td>1034.5000</td>\n",
       "      <td>-1</td>\n",
       "      <td>0</td>\n",
       "      <td>NaN</td>\n",
       "      <td>0</td>\n",
       "    </tr>\n",
       "    <tr>\n",
       "      <th>1</th>\n",
       "      <td>2015-08-12</td>\n",
       "      <td>24</td>\n",
       "      <td>1</td>\n",
       "      <td>1</td>\n",
       "      <td>4</td>\n",
       "      <td>60</td>\n",
       "      <td>1</td>\n",
       "      <td>1</td>\n",
       "      <td>0</td>\n",
       "      <td>0</td>\n",
       "      <td>2</td>\n",
       "      <td>0</td>\n",
       "      <td>1344.8500</td>\n",
       "      <td>0</td>\n",
       "      <td>0</td>\n",
       "      <td>0.8218</td>\n",
       "      <td>0</td>\n",
       "    </tr>\n",
       "    <tr>\n",
       "      <th>2</th>\n",
       "      <td>2015-08-08</td>\n",
       "      <td>41</td>\n",
       "      <td>1</td>\n",
       "      <td>1</td>\n",
       "      <td>3</td>\n",
       "      <td>98</td>\n",
       "      <td>1</td>\n",
       "      <td>1</td>\n",
       "      <td>0</td>\n",
       "      <td>0</td>\n",
       "      <td>4</td>\n",
       "      <td>0</td>\n",
       "      <td>2275.9000</td>\n",
       "      <td>2</td>\n",
       "      <td>0</td>\n",
       "      <td>0.9558</td>\n",
       "      <td>1</td>\n",
       "    </tr>\n",
       "    <tr>\n",
       "      <th>3</th>\n",
       "      <td>2015-08-14</td>\n",
       "      <td>30</td>\n",
       "      <td>0</td>\n",
       "      <td>1</td>\n",
       "      <td>5</td>\n",
       "      <td>108</td>\n",
       "      <td>1</td>\n",
       "      <td>0</td>\n",
       "      <td>0</td>\n",
       "      <td>30</td>\n",
       "      <td>2</td>\n",
       "      <td>0</td>\n",
       "      <td>1344.8500</td>\n",
       "      <td>5</td>\n",
       "      <td>0</td>\n",
       "      <td>0.9304</td>\n",
       "      <td>0</td>\n",
       "    </tr>\n",
       "    <tr>\n",
       "      <th>4</th>\n",
       "      <td>2015-08-28</td>\n",
       "      <td>18</td>\n",
       "      <td>-1</td>\n",
       "      <td>1</td>\n",
       "      <td>4</td>\n",
       "      <td>120</td>\n",
       "      <td>1</td>\n",
       "      <td>0</td>\n",
       "      <td>0</td>\n",
       "      <td>0</td>\n",
       "      <td>4</td>\n",
       "      <td>0</td>\n",
       "      <td>1008.6375</td>\n",
       "      <td>-1</td>\n",
       "      <td>0</td>\n",
       "      <td>NaN</td>\n",
       "      <td>0</td>\n",
       "    </tr>\n",
       "  </tbody>\n",
       "</table>\n",
       "</div>"
      ],
      "text/plain": [
       "         date  demo1  demo2  demo3  demo4  demo5  demo6  job1  job2  job3  \\\n",
       "0  2015-08-25     18     -1      1      4     12      1     0     0    19   \n",
       "1  2015-08-12     24      1      1      4     60      1     1     0     0   \n",
       "2  2015-08-08     41      1      1      3     98      1     1     0     0   \n",
       "3  2015-08-14     30      0      1      5    108      1     0     0    30   \n",
       "4  2015-08-28     18     -1      1      4    120      1     0     0     0   \n",
       "\n",
       "   job4  income1    income2  debt1  debt2   debt3  target  \n",
       "0     2        0  1034.5000     -1      0     NaN       0  \n",
       "1     2        0  1344.8500      0      0  0.8218       0  \n",
       "2     4        0  2275.9000      2      0  0.9558       1  \n",
       "3     2        0  1344.8500      5      0  0.9304       0  \n",
       "4     4        0  1008.6375     -1      0     NaN       0  "
      ]
     },
     "execution_count": 3,
     "metadata": {},
     "output_type": "execute_result"
    }
   ],
   "source": [
    "path_csv = 'sample15k_synth.csv'\n",
    "data = pd.read_csv(path_csv)\n",
    "\n",
    "features = data.keys()\n",
    "data.head()"
   ]
  },
  {
   "cell_type": "markdown",
   "metadata": {
    "id": "pGnw1sryjFPA"
   },
   "source": [
    "Para testar o desempenho do modelo proposto separaremos os dados em dois conjuntos. Os dados coletados em agosto de 2015 serão usados para realizar os treinos e os dados coletados em Setembro de 2015 serão utilizados apenas para teste apenas para teste."
   ]
  },
  {
   "cell_type": "code",
   "execution_count": 4,
   "metadata": {
    "colab": {
     "base_uri": "https://localhost:8080/"
    },
    "id": "GczsZOOIjE07",
    "outputId": "c669669b-7f78-44aa-9132-f9c1431766e8"
   },
   "outputs": [
    {
     "name": "stdout",
     "output_type": "stream",
     "text": [
      "10000 Samples for train \n",
      "5000 Samples for test\n"
     ]
    }
   ],
   "source": [
    "train,test = data.query(\"date < '2015-09-01'\") , data.query(\"date >= '2015-09-01'\")\n",
    "\n",
    "print('{} Samples for train \\n{} Samples for test'\n",
    "          .format(len(train),len(test)))"
   ]
  },
  {
   "cell_type": "markdown",
   "metadata": {
    "id": "vfR-iyprhSSF"
   },
   "source": [
    "A primeira vista podemos observar a ausencia de valores na coluna **debt3**. Vamos verificar se há outras colunas que contém campos não preenchidos."
   ]
  },
  {
   "cell_type": "code",
   "execution_count": 5,
   "metadata": {
    "colab": {
     "base_uri": "https://localhost:8080/"
    },
    "id": "m6wV3fhkhzLY",
    "outputId": "4f00e9e3-83b5-4602-e420-4629e597f9ba"
   },
   "outputs": [
    {
     "data": {
      "text/plain": [
       "date         0\n",
       "demo1        0\n",
       "demo2        0\n",
       "demo3        0\n",
       "demo4        0\n",
       "demo5        0\n",
       "demo6        0\n",
       "job1         0\n",
       "job2         0\n",
       "job3         0\n",
       "job4         0\n",
       "income1      0\n",
       "income2      0\n",
       "debt1        0\n",
       "debt2        0\n",
       "debt3      454\n",
       "target       0\n",
       "dtype: int64"
      ]
     },
     "execution_count": 5,
     "metadata": {},
     "output_type": "execute_result"
    }
   ],
   "source": [
    "#verifica quantas das celulas de uma coluna estão vazias\n",
    "data.isnull().sum()"
   ]
  },
  {
   "cell_type": "markdown",
   "metadata": {
    "id": "a1HJmvVQiWS8"
   },
   "source": [
    "Apenas a coluna **debt3** contém campos não preenchidos, para tratar isso substituiremos essas linhas que não contém valores pela mediana dos valores que já estão preenchidos. "
   ]
  },
  {
   "cell_type": "code",
   "execution_count": 6,
   "metadata": {
    "colab": {
     "base_uri": "https://localhost:8080/",
     "height": 204
    },
    "id": "Uph2A-oNiQhN",
    "outputId": "08b0b728-e8f9-4472-b0a0-b3df4b846d8f"
   },
   "outputs": [
    {
     "data": {
      "text/html": [
       "<div>\n",
       "<style scoped>\n",
       "    .dataframe tbody tr th:only-of-type {\n",
       "        vertical-align: middle;\n",
       "    }\n",
       "\n",
       "    .dataframe tbody tr th {\n",
       "        vertical-align: top;\n",
       "    }\n",
       "\n",
       "    .dataframe thead th {\n",
       "        text-align: right;\n",
       "    }\n",
       "</style>\n",
       "<table border=\"1\" class=\"dataframe\">\n",
       "  <thead>\n",
       "    <tr style=\"text-align: right;\">\n",
       "      <th></th>\n",
       "      <th>date</th>\n",
       "      <th>demo1</th>\n",
       "      <th>demo2</th>\n",
       "      <th>demo3</th>\n",
       "      <th>demo4</th>\n",
       "      <th>demo5</th>\n",
       "      <th>demo6</th>\n",
       "      <th>job1</th>\n",
       "      <th>job2</th>\n",
       "      <th>job3</th>\n",
       "      <th>job4</th>\n",
       "      <th>income1</th>\n",
       "      <th>income2</th>\n",
       "      <th>debt1</th>\n",
       "      <th>debt2</th>\n",
       "      <th>debt3</th>\n",
       "      <th>target</th>\n",
       "    </tr>\n",
       "  </thead>\n",
       "  <tbody>\n",
       "    <tr>\n",
       "      <th>0</th>\n",
       "      <td>2015-08-25</td>\n",
       "      <td>18</td>\n",
       "      <td>-1</td>\n",
       "      <td>1</td>\n",
       "      <td>4</td>\n",
       "      <td>12</td>\n",
       "      <td>1</td>\n",
       "      <td>0</td>\n",
       "      <td>0</td>\n",
       "      <td>19</td>\n",
       "      <td>2</td>\n",
       "      <td>0</td>\n",
       "      <td>1034.5000</td>\n",
       "      <td>-1</td>\n",
       "      <td>0</td>\n",
       "      <td>0.8510</td>\n",
       "      <td>0</td>\n",
       "    </tr>\n",
       "    <tr>\n",
       "      <th>1</th>\n",
       "      <td>2015-08-12</td>\n",
       "      <td>24</td>\n",
       "      <td>1</td>\n",
       "      <td>1</td>\n",
       "      <td>4</td>\n",
       "      <td>60</td>\n",
       "      <td>1</td>\n",
       "      <td>1</td>\n",
       "      <td>0</td>\n",
       "      <td>0</td>\n",
       "      <td>2</td>\n",
       "      <td>0</td>\n",
       "      <td>1344.8500</td>\n",
       "      <td>0</td>\n",
       "      <td>0</td>\n",
       "      <td>0.8218</td>\n",
       "      <td>0</td>\n",
       "    </tr>\n",
       "    <tr>\n",
       "      <th>2</th>\n",
       "      <td>2015-08-08</td>\n",
       "      <td>41</td>\n",
       "      <td>1</td>\n",
       "      <td>1</td>\n",
       "      <td>3</td>\n",
       "      <td>98</td>\n",
       "      <td>1</td>\n",
       "      <td>1</td>\n",
       "      <td>0</td>\n",
       "      <td>0</td>\n",
       "      <td>4</td>\n",
       "      <td>0</td>\n",
       "      <td>2275.9000</td>\n",
       "      <td>2</td>\n",
       "      <td>0</td>\n",
       "      <td>0.9558</td>\n",
       "      <td>1</td>\n",
       "    </tr>\n",
       "    <tr>\n",
       "      <th>3</th>\n",
       "      <td>2015-08-14</td>\n",
       "      <td>30</td>\n",
       "      <td>0</td>\n",
       "      <td>1</td>\n",
       "      <td>5</td>\n",
       "      <td>108</td>\n",
       "      <td>1</td>\n",
       "      <td>0</td>\n",
       "      <td>0</td>\n",
       "      <td>30</td>\n",
       "      <td>2</td>\n",
       "      <td>0</td>\n",
       "      <td>1344.8500</td>\n",
       "      <td>5</td>\n",
       "      <td>0</td>\n",
       "      <td>0.9304</td>\n",
       "      <td>0</td>\n",
       "    </tr>\n",
       "    <tr>\n",
       "      <th>4</th>\n",
       "      <td>2015-08-28</td>\n",
       "      <td>18</td>\n",
       "      <td>-1</td>\n",
       "      <td>1</td>\n",
       "      <td>4</td>\n",
       "      <td>120</td>\n",
       "      <td>1</td>\n",
       "      <td>0</td>\n",
       "      <td>0</td>\n",
       "      <td>0</td>\n",
       "      <td>4</td>\n",
       "      <td>0</td>\n",
       "      <td>1008.6375</td>\n",
       "      <td>-1</td>\n",
       "      <td>0</td>\n",
       "      <td>0.8510</td>\n",
       "      <td>0</td>\n",
       "    </tr>\n",
       "  </tbody>\n",
       "</table>\n",
       "</div>"
      ],
      "text/plain": [
       "         date  demo1  demo2  demo3  demo4  demo5  demo6  job1  job2  job3  \\\n",
       "0  2015-08-25     18     -1      1      4     12      1     0     0    19   \n",
       "1  2015-08-12     24      1      1      4     60      1     1     0     0   \n",
       "2  2015-08-08     41      1      1      3     98      1     1     0     0   \n",
       "3  2015-08-14     30      0      1      5    108      1     0     0    30   \n",
       "4  2015-08-28     18     -1      1      4    120      1     0     0     0   \n",
       "\n",
       "   job4  income1    income2  debt1  debt2   debt3  target  \n",
       "0     2        0  1034.5000     -1      0  0.8510       0  \n",
       "1     2        0  1344.8500      0      0  0.8218       0  \n",
       "2     4        0  2275.9000      2      0  0.9558       1  \n",
       "3     2        0  1344.8500      5      0  0.9304       0  \n",
       "4     4        0  1008.6375     -1      0  0.8510       0  "
      ]
     },
     "execution_count": 6,
     "metadata": {},
     "output_type": "execute_result"
    }
   ],
   "source": [
    "# mediana dos valores contidos na coluna 'debt3'\n",
    "median_debt3 = train[\"debt3\"].median()\n",
    "\n",
    "#Preenchimento de todas as linhas que estão com o campo vazio\n",
    "train[\"debt3\"].fillna(median_debt3, inplace=True)\n",
    "\n",
    "#Usaremos a mesma mediana acima para preencher os dados de teste\n",
    "test[\"debt3\"].fillna(median_debt3, inplace=True)\n",
    "\n",
    "train.head()"
   ]
  },
  {
   "cell_type": "markdown",
   "metadata": {
    "id": "oF_zgxAQmvFK"
   },
   "source": [
    "Observando uma descrição geral das features e os histogramas de cada coluna podemos ter uma ideia geral de como estão dispostos os dados de cada coluna. As features abaixo podem ser divididas em variáveis Numéricas, Categoricas e Lógicas(Categoricas Binárias). No código abaixo separamos as features entre essas categorias: "
   ]
  },
  {
   "cell_type": "code",
   "execution_count": 7,
   "metadata": {},
   "outputs": [
    {
     "data": {
      "text/html": [
       "<div>\n",
       "<style scoped>\n",
       "    .dataframe tbody tr th:only-of-type {\n",
       "        vertical-align: middle;\n",
       "    }\n",
       "\n",
       "    .dataframe tbody tr th {\n",
       "        vertical-align: top;\n",
       "    }\n",
       "\n",
       "    .dataframe thead th {\n",
       "        text-align: right;\n",
       "    }\n",
       "</style>\n",
       "<table border=\"1\" class=\"dataframe\">\n",
       "  <thead>\n",
       "    <tr style=\"text-align: right;\">\n",
       "      <th></th>\n",
       "      <th>demo1</th>\n",
       "      <th>demo2</th>\n",
       "      <th>demo3</th>\n",
       "      <th>demo4</th>\n",
       "      <th>demo5</th>\n",
       "      <th>demo6</th>\n",
       "      <th>job1</th>\n",
       "      <th>job2</th>\n",
       "      <th>job3</th>\n",
       "      <th>job4</th>\n",
       "      <th>income1</th>\n",
       "      <th>income2</th>\n",
       "      <th>debt1</th>\n",
       "      <th>debt2</th>\n",
       "      <th>debt3</th>\n",
       "      <th>target</th>\n",
       "    </tr>\n",
       "  </thead>\n",
       "  <tbody>\n",
       "    <tr>\n",
       "      <th>count</th>\n",
       "      <td>10000.000000</td>\n",
       "      <td>10000.000000</td>\n",
       "      <td>10000.000000</td>\n",
       "      <td>10000.000000</td>\n",
       "      <td>10000.000000</td>\n",
       "      <td>10000.000000</td>\n",
       "      <td>10000.000000</td>\n",
       "      <td>10000.00000</td>\n",
       "      <td>10000.000000</td>\n",
       "      <td>10000.00000</td>\n",
       "      <td>10000.000000</td>\n",
       "      <td>1.000000e+04</td>\n",
       "      <td>10000.000000</td>\n",
       "      <td>10000.000000</td>\n",
       "      <td>10000.000000</td>\n",
       "      <td>10000.00000</td>\n",
       "    </tr>\n",
       "    <tr>\n",
       "      <th>mean</th>\n",
       "      <td>35.792300</td>\n",
       "      <td>0.333600</td>\n",
       "      <td>1.798700</td>\n",
       "      <td>3.175200</td>\n",
       "      <td>135.657600</td>\n",
       "      <td>1.301600</td>\n",
       "      <td>0.415400</td>\n",
       "      <td>0.04350</td>\n",
       "      <td>46.119400</td>\n",
       "      <td>3.29170</td>\n",
       "      <td>0.087100</td>\n",
       "      <td>2.125062e+03</td>\n",
       "      <td>2.850100</td>\n",
       "      <td>0.107400</td>\n",
       "      <td>0.845548</td>\n",
       "      <td>0.17050</td>\n",
       "    </tr>\n",
       "    <tr>\n",
       "      <th>std</th>\n",
       "      <td>13.435885</td>\n",
       "      <td>0.564573</td>\n",
       "      <td>1.284813</td>\n",
       "      <td>1.346137</td>\n",
       "      <td>132.698378</td>\n",
       "      <td>0.742491</td>\n",
       "      <td>0.492816</td>\n",
       "      <td>0.20399</td>\n",
       "      <td>69.928299</td>\n",
       "      <td>1.76718</td>\n",
       "      <td>0.281996</td>\n",
       "      <td>1.047539e+04</td>\n",
       "      <td>1.875842</td>\n",
       "      <td>0.309637</td>\n",
       "      <td>0.077120</td>\n",
       "      <td>0.37609</td>\n",
       "    </tr>\n",
       "    <tr>\n",
       "      <th>min</th>\n",
       "      <td>18.000000</td>\n",
       "      <td>-1.000000</td>\n",
       "      <td>1.000000</td>\n",
       "      <td>0.000000</td>\n",
       "      <td>0.000000</td>\n",
       "      <td>1.000000</td>\n",
       "      <td>0.000000</td>\n",
       "      <td>0.00000</td>\n",
       "      <td>0.000000</td>\n",
       "      <td>1.00000</td>\n",
       "      <td>0.000000</td>\n",
       "      <td>7.034600e+02</td>\n",
       "      <td>-1.000000</td>\n",
       "      <td>0.000000</td>\n",
       "      <td>0.142300</td>\n",
       "      <td>0.00000</td>\n",
       "    </tr>\n",
       "    <tr>\n",
       "      <th>25%</th>\n",
       "      <td>24.000000</td>\n",
       "      <td>0.000000</td>\n",
       "      <td>1.000000</td>\n",
       "      <td>2.000000</td>\n",
       "      <td>36.000000</td>\n",
       "      <td>1.000000</td>\n",
       "      <td>0.000000</td>\n",
       "      <td>0.00000</td>\n",
       "      <td>0.000000</td>\n",
       "      <td>2.00000</td>\n",
       "      <td>0.000000</td>\n",
       "      <td>1.241400e+03</td>\n",
       "      <td>2.000000</td>\n",
       "      <td>0.000000</td>\n",
       "      <td>0.804175</td>\n",
       "      <td>0.00000</td>\n",
       "    </tr>\n",
       "    <tr>\n",
       "      <th>50%</th>\n",
       "      <td>34.000000</td>\n",
       "      <td>0.000000</td>\n",
       "      <td>1.000000</td>\n",
       "      <td>4.000000</td>\n",
       "      <td>101.000000</td>\n",
       "      <td>1.000000</td>\n",
       "      <td>0.000000</td>\n",
       "      <td>0.00000</td>\n",
       "      <td>19.000000</td>\n",
       "      <td>4.00000</td>\n",
       "      <td>0.000000</td>\n",
       "      <td>1.551750e+03</td>\n",
       "      <td>3.000000</td>\n",
       "      <td>0.000000</td>\n",
       "      <td>0.851000</td>\n",
       "      <td>0.00000</td>\n",
       "    </tr>\n",
       "    <tr>\n",
       "      <th>75%</th>\n",
       "      <td>45.000000</td>\n",
       "      <td>1.000000</td>\n",
       "      <td>2.000000</td>\n",
       "      <td>4.000000</td>\n",
       "      <td>216.000000</td>\n",
       "      <td>1.000000</td>\n",
       "      <td>1.000000</td>\n",
       "      <td>0.00000</td>\n",
       "      <td>54.000000</td>\n",
       "      <td>4.00000</td>\n",
       "      <td>0.000000</td>\n",
       "      <td>2.255986e+03</td>\n",
       "      <td>4.000000</td>\n",
       "      <td>0.000000</td>\n",
       "      <td>0.901100</td>\n",
       "      <td>0.00000</td>\n",
       "    </tr>\n",
       "    <tr>\n",
       "      <th>max</th>\n",
       "      <td>80.000000</td>\n",
       "      <td>1.000000</td>\n",
       "      <td>7.000000</td>\n",
       "      <td>5.000000</td>\n",
       "      <td>2520.000000</td>\n",
       "      <td>5.000000</td>\n",
       "      <td>1.000000</td>\n",
       "      <td>1.00000</td>\n",
       "      <td>722.000000</td>\n",
       "      <td>9.00000</td>\n",
       "      <td>1.000000</td>\n",
       "      <td>1.018982e+06</td>\n",
       "      <td>5.000000</td>\n",
       "      <td>1.000000</td>\n",
       "      <td>0.991700</td>\n",
       "      <td>1.00000</td>\n",
       "    </tr>\n",
       "  </tbody>\n",
       "</table>\n",
       "</div>"
      ],
      "text/plain": [
       "              demo1         demo2         demo3         demo4         demo5  \\\n",
       "count  10000.000000  10000.000000  10000.000000  10000.000000  10000.000000   \n",
       "mean      35.792300      0.333600      1.798700      3.175200    135.657600   \n",
       "std       13.435885      0.564573      1.284813      1.346137    132.698378   \n",
       "min       18.000000     -1.000000      1.000000      0.000000      0.000000   \n",
       "25%       24.000000      0.000000      1.000000      2.000000     36.000000   \n",
       "50%       34.000000      0.000000      1.000000      4.000000    101.000000   \n",
       "75%       45.000000      1.000000      2.000000      4.000000    216.000000   \n",
       "max       80.000000      1.000000      7.000000      5.000000   2520.000000   \n",
       "\n",
       "              demo6          job1         job2          job3         job4  \\\n",
       "count  10000.000000  10000.000000  10000.00000  10000.000000  10000.00000   \n",
       "mean       1.301600      0.415400      0.04350     46.119400      3.29170   \n",
       "std        0.742491      0.492816      0.20399     69.928299      1.76718   \n",
       "min        1.000000      0.000000      0.00000      0.000000      1.00000   \n",
       "25%        1.000000      0.000000      0.00000      0.000000      2.00000   \n",
       "50%        1.000000      0.000000      0.00000     19.000000      4.00000   \n",
       "75%        1.000000      1.000000      0.00000     54.000000      4.00000   \n",
       "max        5.000000      1.000000      1.00000    722.000000      9.00000   \n",
       "\n",
       "            income1       income2         debt1         debt2         debt3  \\\n",
       "count  10000.000000  1.000000e+04  10000.000000  10000.000000  10000.000000   \n",
       "mean       0.087100  2.125062e+03      2.850100      0.107400      0.845548   \n",
       "std        0.281996  1.047539e+04      1.875842      0.309637      0.077120   \n",
       "min        0.000000  7.034600e+02     -1.000000      0.000000      0.142300   \n",
       "25%        0.000000  1.241400e+03      2.000000      0.000000      0.804175   \n",
       "50%        0.000000  1.551750e+03      3.000000      0.000000      0.851000   \n",
       "75%        0.000000  2.255986e+03      4.000000      0.000000      0.901100   \n",
       "max        1.000000  1.018982e+06      5.000000      1.000000      0.991700   \n",
       "\n",
       "            target  \n",
       "count  10000.00000  \n",
       "mean       0.17050  \n",
       "std        0.37609  \n",
       "min        0.00000  \n",
       "25%        0.00000  \n",
       "50%        0.00000  \n",
       "75%        0.00000  \n",
       "max        1.00000  "
      ]
     },
     "execution_count": 7,
     "metadata": {},
     "output_type": "execute_result"
    }
   ],
   "source": [
    "cat_var = ['demo2','demo3','demo4', 'demo6','job4','debt1'] #Variaveis Categóricas\n",
    "num_var = ['demo1', 'demo5','job3', 'income2','debt3'] #Variáveis Numéricas\n",
    "logi_var = ['job1','job2', 'income1','debt2'] # Variáveis Lógicas\n",
    "\n",
    "train.describe()"
   ]
  },
  {
   "cell_type": "code",
   "execution_count": 7,
   "metadata": {
    "colab": {
     "base_uri": "https://localhost:8080/",
     "height": 879
    },
    "id": "eeeOQ8CLmuo1",
    "outputId": "cc9cb5b6-483f-46ac-ec22-a14cdba6fc4e"
   },
   "outputs": [
    {
     "data": {
      "image/png": "[encoded data removed]",
      "text/plain": [
       "<Figure size 1440x1080 with 16 Axes>"
      ]
     },
     "metadata": {
      "needs_background": "light"
     },
     "output_type": "display_data"
    }
   ],
   "source": [
    "train.hist(bins=100, figsize=(20,15))\n",
    "plt.show()"
   ]
  },
  {
   "cell_type": "markdown",
   "metadata": {
    "id": "nWQkWPfTJTKU"
   },
   "source": [
    "Olhando as características das features e os histogramas acima podemos destacar coisas como:\n",
    "\n",
    "* As colunas 'demo1' e 'demo2' parecem se tratar respectivamente das seguintes informações: idade e genero.\n",
    "\n",
    "* A coluna 'income2' possui a gigantesca maioria dos seus dados concentrados entre 0 e 10⁴ e alguns outliers fora desse range.\n",
    "\n",
    "* O grande desbalanceamento entre clientes bons pagadores e clientes mau pagadores, como pode ser visto no histograma 'target'. Isso pode ser um problema para o treinamento dos modelos.\n"
   ]
  },
  {
   "cell_type": "code",
   "execution_count": 8,
   "metadata": {
    "colab": {
     "base_uri": "https://localhost:8080/"
    },
    "id": "jV7GCIVSK884",
    "outputId": "6bddf27d-570b-4b98-dc50-9adefe4d709b"
   },
   "outputs": [
    {
     "name": "stdout",
     "output_type": "stream",
     "text": [
      "1705 Mau Pagadores e 8295 Bons Pagadores\n"
     ]
    }
   ],
   "source": [
    "train_pos,train_neg = train.query(\"target == 1 \") , train.query(\"target == 0\")\n",
    "print(\"{} Mau Pagadores e {} Bons Pagadores\".format(len(train_pos),len(train_neg)))\n"
   ]
  },
  {
   "cell_type": "markdown",
   "metadata": {
    "id": "dBcY2c6GtFQr"
   },
   "source": [
    "# Avaliação"
   ]
  },
  {
   "cell_type": "markdown",
   "metadata": {
    "id": "Gwowz1q0871j"
   },
   "source": [
    "Para validar os modelos testados nesse notebook, faremos validação cruzada com 5 folds. Por fim testaremos os modelos junto aos dados de teste separados no começo do notebook.\n",
    "\n",
    "Dado que existe um grande desbalanceamento entre as classes em nosso problema a acuracia não se encaixa tão bem como métrica de avaliação, pois se prevermos todos os clientes como bons pagadores já atingiremos uma alta acuracia uma vez que a maioria dos clientes são bons pagadores. Para avaliar os modelos aqui treinados utilizaremos métricas que avaliem o quão bem são avaliadas as classes em separado, utilizaremos:\n",
    "\n",
    "* **Revocação**\n",
    "\n",
    "> ![CodeCogsEqn.png](data:image/png;base64,iVBORw0KGgoAAAANSUhEUgAAAFEAAAAoBAMAAAB0jAsMAAAAMFBMVEX///8AAAAAAAAAAAAAAAAAAAAAAAAAAAAAAAAAAAAAAAAAAAAAAAAAAAAAAAAAAAAv3aB7AAAAD3RSTlMAdt2rMmaJ7xBEIlSZu83yBCReAAAACXBIWXMAAA7EAAAOxAGVKw4bAAAB2ElEQVQ4Ee2Uv0tCURTHvy/1+RttqdEgamlQMFoica1FG4qaEgkLKnBoaKh4Y0NQQ1C09NYmnVt0ykkQqjG0P6AQ+gFmUedc73uo+aOxoQO+e873fLz3vse9X6A5lOAkEBgD1OB18ba58yNfI8XC6g2Q0znpFivUWOLmK3AU70axfqHDlaXR+gLEOOkamWOo3LRVgYLWFaOGL44r7ltKcG73AmHPO/wM2O/mh7SepLekiD7tok94RmYFwd+gdyhVsTgivTHqut80wYz3Ja30xSlc9b6koyKQredsX/Qf6PgFvn4Z1Y7//ouiaQbJj837aMsOk7upIp0tNajj8JMugWEG3hDc7y2ktwRskDKcB0I0GmZA19LROJ0aqRw+P3BC42IajjiNhhnEorA2DvAyYxSk4IxcYq4Op061YQY0t2eHasAgA3BCJ5fAI8SNNcxgBjiNMmiSkYafKMhpgjTMYG9hcF2AJrmfemBBoQ3bOJFm4KpxIUKuTsoq15fwpM85kWbAniXKcPgpHE5QSgq/MT2sNZFIM7BUWBUh5zQUPzBKP9MMBhKC4ock7VIhKiDmlGaQybaT0sWcRB1FudkwA7U83Uaq5SmhFCboXcxeayJXbxU7Vgcd1W+DOYrWuZXSkwAAAABJRU5ErkJggg==)\n",
    "\n",
    "\n",
    "> Pois queremos diminuir o número de falsos negativos, isso é clientes que são maus pagadores mas são classificados como bons pagadores. Esse é um grande problema pois gera prejuizos para a empresa.\n",
    "\n",
    "* **Especificidade**\n",
    "\n",
    "> ![CodeCogsEqn (3).png](data:image/png;base64,iVBORw0KGgoAAAANSUhEUgAAAFEAAAAoBAMAAAB0jAsMAAAAMFBMVEX///8AAAAAAAAAAAAAAAAAAAAAAAAAAAAAAAAAAAAAAAAAAAAAAAAAAAAAAAAAAAAv3aB7AAAAD3RSTlMAdt2rMmaJ7xBEIlSZu83yBCReAAAACXBIWXMAAA7EAAAOxAGVKw4bAAACBklEQVQ4Ee1UMWzTQBR9R2zHdgKNGMpYJAQMDAUVdawysNAlZkFsrVhgoChCiKmDGdgQeGFhwWvFkMwsiajUTBWRgIGhohISG5IhFNFWqH3/zpZNmlA6sfCly/v/ved/l9PdAcU4OahDfQvgTMd4/CsqSkO50yRxkeNU1+CQnpd2Atgh6+tNuEHOH8y8HeAlaWt+F158UM8ZfxtYZGnjC1ROj8q2UInJK3TCQ5zLeCgNFCZqtiTjYwM1EVdQbT4f7xLltRUJBLC2//jXgSmzOjY+o5vLZ6Ojc1vzdE0d0rOhdY+/T+uje2XsE530LgDVjPqPR9qBvb+M5Ehd/6VZTV/mETsL3NyB++bDb0txzq/d+SjvxNr6Owq3OEocatlg0bsBOG3gLdCJgQVKNzhsfvLI2FwDwFfAqwNbPK48si9i+PwOV1ptpLfMjozV+k5nCIEGLa0IjgjBib65mGyfOlWCyGeZAL0QmAjwSpy1ys9hZ2lTvyilPrz7dJS7bk07uapAkrxn+fNdkcrvr02GxON9fXP9CL3s0cpmb0VOnQ6uT0f19FVBPi6NZ5pYnZn7NDMr6YKwZncEVaInZ+Njl6RmZD3nTJkCKj9CIehU3DcdmfOBKc+ltGV0zuxy33SkTnlNGf6uBuqbklTvtYGuZIzUuTRYlGppQGlMZLOPkQu0GxaKLN0HiCCSjMCNPAMAAAAASUVORK5CYII=)\n",
    "\n",
    "> Precisamos também de uma boa especificidade, uma vez que também queremos manter o número de Falsos positivos baixo. Um modelo que predissesse todos os clientes como mal pagadores teria uma revocação de 100%, entretanto se a empresa dependesse desse modelo nunca daria crédito a nenhum cliente.\n",
    "\n",
    "* **AUC - Area Under Curve**\n",
    "\n",
    "> Para balancear as duas métricas anteriores, usaremos a AUC como métrica principal para avaliar os nossos modelos. Está métrica calcula a Area sob a curva ROC, essa curva é um gráfico de diagnóstico para resumir o comportamento de um modelo, calculando as duas métricas acima sob diferentes limites.\n",
    "\n",
    "\n",
    "Abaixo as funções para validação cruzada e avaliação com as métricas citadas acima."
   ]
  },
  {
   "cell_type": "code",
   "execution_count": 9,
   "metadata": {
    "id": "ecRNKFFug3ua"
   },
   "outputs": [],
   "source": [
    "def evaluateVal(model,X,y):\n",
    "  scores = cross_validate(model, X, y,scoring={\"roc_auc\"}, cv=5)\n",
    "  print(\"AUC = {}\".format(\n",
    "            scores['test_roc_auc'].mean()))\n",
    "  \n",
    "def evaluate(model,X,y):\n",
    "  if(model == None):\n",
    "    y_pred = np.ones(len(y))\n",
    "  else:  \n",
    "    y_pred = model.predict(X)\n",
    "    \n",
    "  vn, fp, fn, vp = confusion_matrix(y, y_pred).ravel()  \n",
    "    \n",
    "  print(\"Revocação = {}, Especificidade = {}, AUC = {}\".format(\n",
    "      vp/(vp+fn), vn/(vn+fp),roc_auc_score(y,y_pred)))"
   ]
  },
  {
   "cell_type": "markdown",
   "metadata": {
    "id": "Cr47pxT6xEFg"
   },
   "source": [
    "# Preparação dos dados"
   ]
  },
  {
   "cell_type": "code",
   "execution_count": 10,
   "metadata": {
    "id": "PXkOLm_nxZeN"
   },
   "outputs": [],
   "source": [
    "#Separando as colunas de caracteristicas do target \n",
    "X_train,y_train = train[features[1:16]],train.target\n",
    "X_test,y_test = test[features[1:16]],test.target"
   ]
  },
  {
   "cell_type": "markdown",
   "metadata": {
    "id": "jOWfuY00qyzj"
   },
   "source": [
    "# Modelos Utilizados"
   ]
  },
  {
   "cell_type": "markdown",
   "metadata": {
    "id": "TtYgcGPc4upl"
   },
   "source": [
    "Para tentar construir um modelo que consiga distinguir entre bons e maus pagadores testarei dois dos mais famosos modelos de machine learning que utilizam do método de ensemble:\n",
    "\n",
    "\n",
    "*   Random Forest\n",
    "*   Gradient Boost\n",
    "\n"
   ]
  },
  {
   "cell_type": "markdown",
   "metadata": {
    "id": "vhNsSTJn6UAS"
   },
   "source": [
    "### Random Forest\n",
    "\n",
    "Abaixo a função para realizar a GridSearch na Random Forest. "
   ]
  },
  {
   "cell_type": "code",
   "execution_count": 11,
   "metadata": {
    "id": "k_H19mk1wZxX"
   },
   "outputs": [],
   "source": [
    "# Grid Search for Random Forest\n",
    "def gridSearch_RF(X,y,score):\n",
    "  param_grid = [\n",
    "          {'bootstrap': [True],\n",
    "            'max_depth': [4,10,25, 50,100],\n",
    "            'max_leaf_nodes':[16,32,64,None],\n",
    "            'max_features': [2,5,7,10,12,15],\n",
    "            'n_estimators': [1,10,100,200]},\n",
    "          ]\n",
    "\n",
    "  model= RandomForestClassifier(random_state=0)\n",
    "  grid_search = GridSearchCV(model, param_grid, cv=5, scoring=score,return_train_score=True)\n",
    "  grid_search.fit(X, y)\n",
    "  print(grid_search.best_params_)"
   ]
  },
  {
   "cell_type": "markdown",
   "metadata": {
    "id": "wbVTl-H16_M6"
   },
   "source": [
    "### Gradient Boosting\n",
    "\n",
    "Abaixo a função para realizar a GridSearch no Gradient Boosting. "
   ]
  },
  {
   "cell_type": "code",
   "execution_count": 12,
   "metadata": {
    "id": "Iwf19a597KPs"
   },
   "outputs": [],
   "source": [
    "# Grid Search\n",
    "\n",
    "def gridSearch_XB(X,y,score):\n",
    "  param_grid = {\n",
    "      \"learning_rate\": [0.0001, 0.001, 0.01, 0.1, 1.0],\n",
    "      \"max_depth\":[3,5,7,9,13],\n",
    "      \"subsample\":[0.3,0.5, 0.7, 1.0],\n",
    "      \"n_estimators\":[10, 50, 100, 200]\n",
    "  }\n",
    "\n",
    "  model= GradientBoostingClassifier(random_state=0)\n",
    "  grid_search = GridSearchCV(model, param_grid, cv=5, scoring=score,return_train_score=True)\n",
    "  grid_search.fit(X, y)\n",
    "  print(grid_search.best_params_)"
   ]
  },
  {
   "cell_type": "markdown",
   "metadata": {
    "id": "Jyg9-oTbv5Jv"
   },
   "source": [
    "# Primeiro Teste"
   ]
  },
  {
   "cell_type": "markdown",
   "metadata": {
    "id": "j9sDaUBr-Ug8"
   },
   "source": [
    "Para verificar o quão bem se saem os modelos com os dados disponibilizados quase inalterados, vamos fazer um gridsearch nos modelos de Random Forest e Gradient Boost para encontrar os melhores parametros de treino e observar suas pontuações nas métricas. "
   ]
  },
  {
   "cell_type": "markdown",
   "metadata": {
    "id": "p9jc-mgSjg0Z"
   },
   "source": [
    "### Random Forest"
   ]
  },
  {
   "cell_type": "code",
   "execution_count": 33,
   "metadata": {
    "colab": {
     "background_save": true
    },
    "id": "pkZ2fRqXzvzE",
    "outputId": "578a6933-b4c8-4b50-b4d6-7cbf544dff4f"
   },
   "outputs": [
    {
     "name": "stdout",
     "output_type": "stream",
     "text": [
      "{'bootstrap': True, 'max_depth': 10, 'max_features': 2, 'max_leaf_nodes': None, 'n_estimators': 500}\n"
     ]
    }
   ],
   "source": [
    "# Grid Search para encontrar o melhor parametro para Random Forest com a metrica auc\n",
    "gridSearch_RF(X_train,y_train,'roc_auc')"
   ]
  },
  {
   "cell_type": "code",
   "execution_count": 25,
   "metadata": {
    "colab": {
     "base_uri": "https://localhost:8080/"
    },
    "id": "gVgdJZvX1Rc8",
    "outputId": "3c20262b-021d-4d25-f88c-e53368867a9b"
   },
   "outputs": [
    {
     "name": "stdout",
     "output_type": "stream",
     "text": [
      "\n",
      "Validação Cruzada\n",
      "AUC = 0.6453108345309244\n",
      "\n",
      "Teste no próprio conjunto de teste\n",
      "Revocação = 0.008211143695014663, Especificidade = 1.0, AUC = 0.5041055718475074\n",
      "\n",
      "Modelo que só chuta 1\n",
      "Revocação = 1.0, Especificidade = 0.0, AUC = 0.5\n"
     ]
    }
   ],
   "source": [
    "#Modelo com os parametros escolhidos pelo grid search\n",
    "RF = RandomForestClassifier(max_depth=10,max_features=2,n_estimators=500,random_state=0)\n",
    "\n",
    "print(\"\\nValidação Cruzada\")\n",
    "evaluateVal(RF,X_train,y_train)\n",
    "\n",
    "#treino\n",
    "RF.fit(X_train,y_train)\n",
    "\n",
    "print(\"\\nTeste no próprio conjunto de teste\")\n",
    "evaluate(RF,X_train,y_train)\n",
    "print(\"\\nModelo que só chuta 1\")\n",
    "evaluate(None,X_train,y_train)"
   ]
  },
  {
   "cell_type": "markdown",
   "metadata": {},
   "source": [
    "Com os resultados acima, o primeiro modelo parece estar classificando muitos clientes como bons pagadores, assim apresentando muitos Falsos Negativos. Na validação cruzada consegue alcançar um bom AUC mas mesmo nos dados alcança um péssimo resultado."
   ]
  },
  {
   "cell_type": "markdown",
   "metadata": {
    "id": "4M21r57ejkVe"
   },
   "source": [
    "### Gradient Boosting"
   ]
  },
  {
   "cell_type": "code",
   "execution_count": 27,
   "metadata": {
    "id": "M3nvhWAZi8Sc"
   },
   "outputs": [
    {
     "name": "stdout",
     "output_type": "stream",
     "text": [
      "{'learning_rate': 0.01, 'max_depth': 3, 'n_estimators': 500, 'subsample': 0.5}\n"
     ]
    }
   ],
   "source": [
    "# Grid Search para encontrar o melhor parametro para Gradient Boosting com a metrica auc\n",
    "gridSearch_XB(X_train,y_train,'roc_auc')"
   ]
  },
  {
   "cell_type": "code",
   "execution_count": 34,
   "metadata": {
    "id": "sPe9oO4LjZYp"
   },
   "outputs": [
    {
     "name": "stdout",
     "output_type": "stream",
     "text": [
      "\n",
      "Validação Cruzada\n",
      "AUC = 0.643935593466014\n",
      "\n",
      "Teste no próprio conjunto de teste\n",
      "Revocação = 0.002932551319648094, Especificidade = 1.0, AUC = 0.501466275659824\n",
      "\n",
      "Modelo que só chuta 1\n",
      "Revocação = 1.0, Especificidade = 0.0, AUC = 0.5\n"
     ]
    }
   ],
   "source": [
    "#Modelo com os parametros escolhidos pelo grid search\n",
    "XG = GradientBoostingClassifier(learning_rate=0.01, max_depth=3,n_estimators=500,subsample=0.5,random_state=0)\n",
    "\n",
    "print(\"\\nValidação Cruzada\")\n",
    "evaluateVal(XG,X_train,y_train)\n",
    "\n",
    "#treino\n",
    "XG.fit(X_train,y_train)\n",
    "\n",
    "print(\"\\nTeste no próprio conjunto de teste\")\n",
    "evaluate(XG,X_train,y_train)\n",
    "print(\"\\nModelo que só chuta 1\")\n",
    "evaluate(None,X_train,y_train)"
   ]
  },
  {
   "cell_type": "markdown",
   "metadata": {},
   "source": [
    "Comentario sobre os resultados acima"
   ]
  },
  {
   "cell_type": "markdown",
   "metadata": {
    "id": "qcWIJ1RC9v3b"
   },
   "source": [
    "# Tentativas para melhorar desempenho"
   ]
  },
  {
   "cell_type": "markdown",
   "metadata": {
    "id": "rP6XZWQB9MkJ"
   },
   "source": [
    "### Subsampling"
   ]
  },
  {
   "cell_type": "markdown",
   "metadata": {},
   "source": [
    "Como dito anteriormente o grande desbalanceamento entre as classes pode causar um grande prejuízo no treino dos modelos. Para tentar diminuir esse prejuízo decidi verificar se temos uma melhora no desempenho dos modelos ao fazer um subsampling dos dados iniciais. O subsampling foi criado pegando todos os 1705 exemplos positivos + 1705 exemplos negativos aleatorios, assim nosso subsampling contém 3410 samples para o treino."
   ]
  },
  {
   "cell_type": "code",
   "execution_count": 28,
   "metadata": {
    "colab": {
     "base_uri": "https://localhost:8080/"
    },
    "id": "OVPacbLi93vX",
    "outputId": "8d44d4ac-e514-4d0d-f253-c3fb6306c5e4"
   },
   "outputs": [
    {
     "name": "stdout",
     "output_type": "stream",
     "text": [
      "1705 Mau Pagadores e 1705 Bons Pagadores\n"
     ]
    }
   ],
   "source": [
    "#Pegando um conjunto de 1705 samples dos exemplos negativos\n",
    "train_neg_sub = train_neg.sample(n=len(train_pos))\n",
    "print(\"{} Mau Pagadores e {} Bons Pagadores\".format(len(train_pos),len(train_neg_sub)))\n",
    "\n",
    "#Nosso subsampling\n",
    "train_sub = pd.concat([train_pos,train_neg_sub])\n",
    "\n",
    "\n",
    "X_train_sub,y_train_sub = train_sub[features[1:16]],train_sub.target"
   ]
  },
  {
   "cell_type": "code",
   "execution_count": 29,
   "metadata": {
    "colab": {
     "base_uri": "https://localhost:8080/"
    },
    "id": "qUu34QaP9pAL",
    "outputId": "f8ce71a7-9d31-461c-f739-b07611fe9350"
   },
   "outputs": [
    {
     "name": "stdout",
     "output_type": "stream",
     "text": [
      "{'bootstrap': True, 'max_depth': 10, 'max_features': 2, 'max_leaf_nodes': None, 'n_estimators': 500}\n"
     ]
    }
   ],
   "source": [
    "# Grid Search para encontrar o melhor parametro para Random Forest com a metrica auc\n",
    "gridSearch_RF(X_train_sub,y_train_sub,'roc_auc')"
   ]
  },
  {
   "cell_type": "code",
   "execution_count": 35,
   "metadata": {
    "colab": {
     "base_uri": "https://localhost:8080/"
    },
    "id": "VOWzD175CP99",
    "outputId": "3496dc53-209c-4c64-921f-b334a570fbcd"
   },
   "outputs": [
    {
     "name": "stdout",
     "output_type": "stream",
     "text": [
      "\n",
      "Validação Cruzada\n",
      "AUC = 0.6509042749890351\n",
      "\n",
      "Teste no próprio conjunto de teste\n",
      "Revocação = 0.9085043988269794, Especificidade = 0.787683284457478, AUC = 0.8480938416422288\n",
      "\n",
      "Modelo que só chuta 1\n",
      "Revocação = 1.0, Especificidade = 0.0, AUC = 0.5\n"
     ]
    }
   ],
   "source": [
    "RF_sub = RandomForestClassifier(max_depth=10,max_features=2,n_estimators=500,random_state=0)\n",
    "\n",
    "print(\"\\nValidação Cruzada\")\n",
    "evaluateVal(RF_sub,X_train_sub,y_train_sub)\n",
    "\n",
    "#treino\n",
    "RF_sub.fit(X_train_sub,y_train_sub)\n",
    "\n",
    "print(\"\\nTeste no próprio conjunto de teste\")\n",
    "evaluate(RF_sub,X_train_sub,y_train_sub)\n",
    "\n",
    "print(\"\\nModelo que só chuta 1\")\n",
    "evaluate(None,X_train_sub,y_train_sub)"
   ]
  },
  {
   "cell_type": "code",
   "execution_count": 30,
   "metadata": {
    "colab": {
     "base_uri": "https://localhost:8080/",
     "height": 323
    },
    "id": "Kf4FOdfGfxBr",
    "outputId": "20597e8e-b52c-4315-ad38-78dce72e0144"
   },
   "outputs": [
    {
     "name": "stdout",
     "output_type": "stream",
     "text": [
      "{'learning_rate': 0.01, 'max_depth': 7, 'n_estimators': 200, 'subsample': 0.3}\n"
     ]
    }
   ],
   "source": [
    "gridSearch_XB(X_train_sub,y_train_sub,'roc_auc')"
   ]
  },
  {
   "cell_type": "code",
   "execution_count": 37,
   "metadata": {
    "colab": {
     "base_uri": "https://localhost:8080/"
    },
    "id": "ASaFapHRtdAX",
    "outputId": "06711b59-2e80-4852-e27e-e1ee6db79702"
   },
   "outputs": [
    {
     "name": "stdout",
     "output_type": "stream",
     "text": [
      "\n",
      "Validação Cruzada\n",
      "AUC = 0.6444268625140823\n",
      "\n",
      "Teste no próprio conjunto de teste\n",
      "Revocação = 0.8527859237536657, Especificidade = 0.7284457478005865, AUC = 0.7906158357771261\n",
      "\n",
      "Modelo que só chuta 1\n",
      "Revocação = 1.0, Especificidade = 0.0, AUC = 0.5\n"
     ]
    }
   ],
   "source": [
    "XG_sub = GradientBoostingClassifier(learning_rate=0.01,max_depth=7,n_estimators=200,subsample=0.3,random_state=0)\n",
    "\n",
    "print(\"\\nValidação Cruzada\")\n",
    "evaluateVal(XG_sub,X_train_sub,y_train_sub)\n",
    "\n",
    "#treino\n",
    "XG_sub.fit(X_train_sub,y_train_sub)\n",
    "\n",
    "print(\"\\nTeste no próprio conjunto de teste\")\n",
    "evaluate(XG_sub,X_train_sub,y_train_sub)\n",
    "\n",
    "print(\"\\nModelo que só chuta 1\")\n",
    "evaluate(None,X_train_sub,y_train_sub)"
   ]
  },
  {
   "cell_type": "markdown",
   "metadata": {
    "id": "P3i3dzQwkrNC"
   },
   "source": [
    "### Oversampling\n",
    "\n",
    "Motivado pelos resultados alcançados pelo subsampling tentamos fazer um oversampling para balancear as classes, dessa vez copiamos exemplos aleatorios dos que são positivos afim de igualar o número de exemplos negativos ou seja: 8295 Mau Pagadores e 8295 Bons Pagadores.\n",
    "\n",
    "Os testes com Oversampling foram realizados mas não foram postos aqui por não terem um bom resultado. Talvez o número de duplicados entre 1705 e 8295 seja muito grande e fazer esse oversampling não seja uma boa ideia. Por isso abaixo testaremos um meio termo vamos fazer um teste com 3410 Mau Pagadores e 3410 Bons Pagadores."
   ]
  },
  {
   "cell_type": "code",
   "execution_count": 31,
   "metadata": {},
   "outputs": [
    {
     "name": "stdout",
     "output_type": "stream",
     "text": [
      "3410 Mau Pagadores e 3410 Bons Pagadores\n"
     ]
    }
   ],
   "source": [
    "train_neg_over = train_neg.sample(n=len(train_pos)*2)\n",
    "train_pos_over = train_pos.sample(frac=2,replace=True)\n",
    "print(\"{} Mau Pagadores e {} Bons Pagadores\".format(len(train_pos_over),len(train_neg_over)))\n",
    "\n",
    "#Nosso subsampling\n",
    "train_over = pd.concat([train_pos_over,train_neg_over])\n",
    "\n",
    "\n",
    "X_train_over,y_train_over = train_over[features[1:16]],train_over.target"
   ]
  },
  {
   "cell_type": "code",
   "execution_count": 32,
   "metadata": {},
   "outputs": [
    {
     "name": "stdout",
     "output_type": "stream",
     "text": [
      "{'bootstrap': True, 'max_depth': 25, 'max_features': 2, 'max_leaf_nodes': None, 'n_estimators': 500}\n"
     ]
    }
   ],
   "source": [
    "# Grid Search para encontrar o melhor parametro para Random Forest com a metrica auc\n",
    "gridSearch_RF(X_train_over,y_train_over,'roc_auc')"
   ]
  },
  {
   "cell_type": "code",
   "execution_count": 38,
   "metadata": {},
   "outputs": [
    {
     "name": "stdout",
     "output_type": "stream",
     "text": [
      "\n",
      "Validação Cruzada\n",
      "AUC = 0.6473662937195244\n",
      "\n",
      "Teste no próprio conjunto de teste\n",
      "Revocação = 1.0, Especificidade = 1.0, AUC = 1.0\n",
      "\n",
      "Modelo que só chuta 1\n",
      "Revocação = 1.0, Especificidade = 0.0, AUC = 0.5\n"
     ]
    }
   ],
   "source": [
    "RF_over = RandomForestClassifier(max_depth=25,max_features=2,n_estimators=500,random_state=0)\n",
    "\n",
    "print(\"\\nValidação Cruzada\")\n",
    "evaluateVal(RF_over,X_train_sub,y_train_sub)\n",
    "\n",
    "#treino\n",
    "RF_over.fit(X_train_over,y_train_over)\n",
    "\n",
    "print(\"\\nTeste no próprio conjunto de teste\")\n",
    "evaluate(RF_over,X_train_over,y_train_over)\n",
    "\n",
    "print(\"\\nModelo que só chuta 1\")\n",
    "evaluate(None,X_train_over,y_train_over)"
   ]
  },
  {
   "cell_type": "code",
   "execution_count": null,
   "metadata": {},
   "outputs": [],
   "source": [
    "gridSearch_XB(X_train_over,y_train_over,'roc_auc')"
   ]
  },
  {
   "cell_type": "code",
   "execution_count": 39,
   "metadata": {},
   "outputs": [
    {
     "name": "stdout",
     "output_type": "stream",
     "text": [
      "Revocação = 1.0, Especificidade = 0.0, AUC = 0.5\n",
      "Revocação = 0.0, Especificidade = 1.0, AUC = 0.5\n",
      "Revocação = 0.0, Especificidade = 1.0, AUC = 0.5\n",
      "Revocação = 0.7602339181286549, Especificidade = 0.5188726723704077, AUC = 0.6395532952495312\n",
      "Revocação = 0.7270955165692008, Especificidade = 0.5332159033719175, AUC = 0.6301557099705591\n",
      "Revocação = 0.246588693957115, Especificidade = 0.8852541519879215, AUC = 0.5659214229725182\n"
     ]
    }
   ],
   "source": [
    "evaluate(None,X_test,y_test)\n",
    "evaluate(RF,X_test,y_test)\n",
    "evaluate(XG,X_test,y_test)\n",
    "evaluate(RF_sub,X_test,y_test)\n",
    "evaluate(XG_sub,X_test,y_test)\n",
    "evaluate(RF_over,X_test,y_test)"
   ]
  },
  {
   "cell_type": "markdown",
   "metadata": {},
   "source": [
    "### Feature Selection\n",
    "\n",
    "Afim de verificar se um subconjunto de features consegue desempenho melhor que todas as features juntas vamos realizar uma busca sequencial nos conjuntos de features."
   ]
  },
  {
   "cell_type": "markdown",
   "metadata": {
    "id": "eJ4m0hgdjeFm"
   },
   "source": [
    "# Modelo Proposto"
   ]
  },
  {
   "cell_type": "code",
   "execution_count": 1,
   "metadata": {},
   "outputs": [
    {
     "ename": "NameError",
     "evalue": "name 'train_neg' is not defined",
     "output_type": "error",
     "traceback": [
      "\u001b[0;31m---------------------------------------------------------------------------\u001b[0m",
      "\u001b[0;31mNameError\u001b[0m                                 Traceback (most recent call last)",
      "\u001b[0;32m<ipython-input-1-77cd186d2905>\u001b[0m in \u001b[0;36m<module>\u001b[0;34m\u001b[0m\n\u001b[1;32m      1\u001b[0m \u001b[0;31m#Pegando um conjunto de 1705 samples dos exemplos negativos\u001b[0m\u001b[0;34m\u001b[0m\u001b[0;34m\u001b[0m\u001b[0;34m\u001b[0m\u001b[0m\n\u001b[0;32m----> 2\u001b[0;31m \u001b[0maux_neg\u001b[0m \u001b[0;34m=\u001b[0m \u001b[0mtrain_neg\u001b[0m\u001b[0;34m.\u001b[0m\u001b[0msample\u001b[0m\u001b[0;34m(\u001b[0m\u001b[0mn\u001b[0m\u001b[0;34m=\u001b[0m\u001b[0mlen\u001b[0m\u001b[0;34m(\u001b[0m\u001b[0mtrain_pos\u001b[0m\u001b[0;34m)\u001b[0m\u001b[0;34m*\u001b[0m\u001b[0;36m2\u001b[0m\u001b[0;34m)\u001b[0m\u001b[0;34m\u001b[0m\u001b[0;34m\u001b[0m\u001b[0m\n\u001b[0m\u001b[1;32m      3\u001b[0m \u001b[0;34m\u001b[0m\u001b[0m\n\u001b[1;32m      4\u001b[0m \u001b[0mtrain_neg_sub1\u001b[0m \u001b[0;34m=\u001b[0m \u001b[0maux_neg\u001b[0m\u001b[0;34m[\u001b[0m\u001b[0;34m:\u001b[0m\u001b[0mlen\u001b[0m\u001b[0;34m(\u001b[0m\u001b[0mtrain_pos\u001b[0m\u001b[0;34m)\u001b[0m\u001b[0;34m]\u001b[0m\u001b[0;34m\u001b[0m\u001b[0;34m\u001b[0m\u001b[0m\n\u001b[1;32m      5\u001b[0m \u001b[0mtrain_neg_sub2\u001b[0m \u001b[0;34m=\u001b[0m \u001b[0maux_neg\u001b[0m\u001b[0;34m[\u001b[0m\u001b[0mlen\u001b[0m\u001b[0;34m(\u001b[0m\u001b[0mtrain_pos\u001b[0m\u001b[0;34m)\u001b[0m\u001b[0;34m:\u001b[0m\u001b[0;34m]\u001b[0m\u001b[0;34m\u001b[0m\u001b[0;34m\u001b[0m\u001b[0m\n",
      "\u001b[0;31mNameError\u001b[0m: name 'train_neg' is not defined"
     ]
    }
   ],
   "source": [
    "#Pegando um conjunto de 1705 samples dos exemplos negativos\n",
    "aux_neg = train_neg.sample(n=len(train_pos)*2)\n",
    "\n",
    "train_neg_sub1 = aux_neg[:len(train_pos)]\n",
    "train_neg_sub2 = aux_neg[len(train_pos):]\n",
    "\n",
    "print(\"{} Mau Pagadores, {} Bons Pagadores do Conjunto 1, {} Bons Pagadores do Conjunto 2 \".format(\n",
    "    len(train_pos),len(train_neg_sub1),len(train_neg_sub2)))\n",
    "\n",
    "#Nosso subsampling\n",
    "train_sub1 = pd.concat([train_pos,train_neg_sub1])\n",
    "train_sub2 = pd.concat([train_pos,train_neg_sub2])\n",
    "\n",
    "X_train_sub1,y_train_sub1 = train_sub1[features[1:16]],train_sub1.target\n",
    "X_train_sub2,y_train_sub2 = train_sub2[features[1:16]],train_sub2.target"
   ]
  },
  {
   "cell_type": "code",
   "execution_count": null,
   "metadata": {
    "colab": {
     "base_uri": "https://localhost:8080/"
    },
    "id": "4C5p4fd65XbL",
    "outputId": "51aecd4d-48e8-4c75-8f2a-a9e3a9f04e01"
   },
   "outputs": [
    {
     "name": "stdout",
     "output_type": "stream",
     "text": [
      "Precisão = 0.5801675146333417, Revocação = 0.7096774193548387, F1-Score = 0.6381851629680803, AUC = 0.6348621012891186\n",
      "Precisão = 0.6382367034020124, Revocação = 0.7812316715542522, F1-Score = 0.7025316455696202, AUC = 0.669208211143695\n",
      "Precisão = 0.5, Revocação = 1.0, F1-Score = 0.6666666666666666, AUC = 0.5\n",
      "Precisão = 0.27412437455325234, Revocação = 0.7475633528265108, F1-Score = 0.40115062761506276, AUC = 0.6182456925179358\n"
     ]
    }
   ],
   "source": [
    "from sklearn.ensemble import VotingClassifier\n",
    "\n",
    "xg_clf = GradientBoostingClassifier(random_state=0)\n",
    "rnd_clf = RandomForestClassifier(max_depth=25,random_state=0,max_features=5,max_leaf_nodes=16,n_estimators=500)\n",
    "voting_clf = VotingClassifier(\n",
    "estimators=[('xg', xg_clf), ('rf', rnd_clf)],voting='soft')\n",
    "\n",
    "evaluateVal(voting_clf,X_train_sub,y_train_sub)\n",
    "\n",
    "voting_clf.fit(X_train_sub,y_train_sub)\n",
    "\n",
    "evaluate(voting_clf,X_train_sub,y_train_sub)\n",
    "evaluate(None,X_test,y_train_sub)\n",
    "evaluate(voting_clf,X_test,y_test)"
   ]
  },
  {
   "cell_type": "markdown",
   "metadata": {
    "id": "G3X4996kkg1a"
   },
   "source": [
    "# Analisando importancia das Features para o modelo"
   ]
  },
  {
   "cell_type": "code",
   "execution_count": null,
   "metadata": {
    "id": "2wuQo8C5kZsV"
   },
   "outputs": [],
   "source": []
  }
 ],
 "metadata": {
  "colab": {
   "collapsed_sections": [],
   "name": "Desafio Tecnico ume.ipynb",
   "provenance": [],
   "toc_visible": true
  },
  "kernelspec": {
   "display_name": "Python 3",
   "language": "python",
   "name": "python3"
  },
  "language_info": {
   "codemirror_mode": {
    "name": "ipython",
    "version": 3
   },
   "file_extension": ".py",
   "mimetype": "text/x-python",
   "name": "python",
   "nbconvert_exporter": "python",
   "pygments_lexer": "ipython3",
   "version": "3.8.5"
  }
 },
 "nbformat": 4,
 "nbformat_minor": 1
}
